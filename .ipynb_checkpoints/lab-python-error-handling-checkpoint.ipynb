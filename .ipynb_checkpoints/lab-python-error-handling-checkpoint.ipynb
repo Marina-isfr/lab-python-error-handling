{
 "cells": [
  {
   "cell_type": "markdown",
   "id": "25d7736c-ba17-4aff-b6bb-66eba20fbf4e",
   "metadata": {},
   "source": [
    "# Lab | Error Handling"
   ]
  },
  {
   "cell_type": "markdown",
   "id": "bc99b386-7508-47a0-bcdb-d969deaf6c8b",
   "metadata": {},
   "source": [
    "## Exercise: Error Handling for Managing Customer Orders\n",
    "\n",
    "The implementation of your code for managing customer orders assumes that the user will always enter a valid input. \n",
    "\n",
    "For example, we could modify the `initialize_inventory` function to include error handling.\n",
    "   - If the user enters an invalid quantity (e.g., a negative value or a non-numeric value), display an error message and ask them to re-enter the quantity for that product.\n",
    "   - Use a try-except block to handle the error and continue prompting the user until a valid quantity is entered.\n",
    "\n",
    "```python\n",
    "# Step 1: Define the function for initializing the inventory with error handling\n",
    "def initialize_inventory(products):\n",
    "    inventory = {}\n",
    "    for product in products:\n",
    "        valid_quantity = False\n",
    "        while not valid_quantity:\n",
    "            try:\n",
    "                quantity = int(input(f\"Enter the quantity of {product}s available: \"))\n",
    "                if quantity < 0:\n",
    "                    raise ValueError(\"Invalid quantity! Please enter a non-negative value.\")\n",
    "                valid_quantity = True\n",
    "            except ValueError as error:\n",
    "                print(f\"Error: {error}\")\n",
    "        inventory[product] = quantity\n",
    "    return inventory\n",
    "\n",
    "# Or, in another way:\n",
    "\n",
    "def initialize_inventory(products):\n",
    "    inventory = {}\n",
    "    for product in products:\n",
    "        valid_input = False\n",
    "        while not valid_input:\n",
    "            try:\n",
    "                quantity = int(input(f\"Enter the quantity of {product}s available: \"))\n",
    "                if quantity >= 0:\n",
    "                    inventory[product] = quantity\n",
    "                    valid_input = True\n",
    "                else:\n",
    "                    print(\"Quantity cannot be negative. Please enter a valid quantity.\")\n",
    "            except ValueError:\n",
    "                print(\"Invalid input. Please enter a valid quantity.\")\n",
    "    return inventory\n",
    "```\n",
    "\n",
    "Let's enhance your code by implementing error handling to handle invalid inputs.\n",
    "\n",
    "Follow the steps below to complete the exercise:\n",
    "\n",
    "2. Modify the `calculate_total_price` function to include error handling.\n",
    "   - If the user enters an invalid price (e.g., a negative value or a non-numeric value), display an error message and ask them to re-enter the price for that product.\n",
    "   - Use a try-except block to handle the error and continue prompting the user until a valid price is entered.\n",
    "\n",
    "3. Modify the `get_customer_orders` function to include error handling.\n",
    "   - If the user enters an invalid number of orders (e.g., a negative value or a non-numeric value), display an error message and ask them to re-enter the number of orders.\n",
    "   - If the user enters an invalid product name (e.g., a product name that is not in the inventory), or that doesn't have stock available, display an error message and ask them to re-enter the product name. *Hint: you will need to pass inventory as a parameter*\n",
    "   - Use a try-except block to handle the error and continue prompting the user until a valid product name is entered.\n",
    "\n",
    "4. Test your code by running the program and deliberately entering invalid quantities and product names. Make sure the error handling mechanism works as expected.\n"
   ]
  },
  {
   "cell_type": "code",
   "execution_count": 30,
   "id": "47ba730d-495a-48e0-a9b3-3801fc4071a8",
   "metadata": {
    "tags": []
   },
   "outputs": [
    {
     "name": "stdin",
     "output_type": "stream",
     "text": [
      "Enter the quantity of t-shirts available:  54\n",
      "Enter the quantity of mugs available:  dfg\n"
     ]
    },
    {
     "name": "stdout",
     "output_type": "stream",
     "text": [
      "Error: invalid literal for int() with base 10: 'dfg'\n"
     ]
    },
    {
     "name": "stdin",
     "output_type": "stream",
     "text": [
      "Enter the quantity of mugs available:  5.3\n"
     ]
    },
    {
     "name": "stdout",
     "output_type": "stream",
     "text": [
      "Error: invalid literal for int() with base 10: '5.3'\n"
     ]
    },
    {
     "name": "stdin",
     "output_type": "stream",
     "text": [
      "Enter the quantity of mugs available:  5\n",
      "Enter the quantity of hats available:  6\n",
      "Enter the quantity of books available:  7\n",
      "Enter the quantity of keychains available:  4\n"
     ]
    },
    {
     "name": "stdout",
     "output_type": "stream",
     "text": [
      "{'t-shirt': 54, 'mug': 5, 'hat': 6, 'book': 7, 'keychain': 4}\n"
     ]
    }
   ],
   "source": [
    "\n",
    "products = [\"t-shirt\", \"mug\", \"hat\", \"book\", \"keychain\"]\n",
    "def initialize_inventory(products):\n",
    "    inventory = {}\n",
    "    for product in products:\n",
    "        valid_quantity = False\n",
    "        while not valid_quantity:\n",
    "            try:\n",
    "                quantity = int(input(f\"Enter the quantity of {product}s available: \"))\n",
    "                if quantity < 0:\n",
    "                    raise ValueError(\"Invalid quantity! Please enter a non-negative value.\")\n",
    "                valid_quantity = True\n",
    "            except ValueError as error:\n",
    "                print(f\"Error: {error}\")\n",
    "        inventory[product] = quantity\n",
    "    return inventory\n",
    "inventory = initialize_inventory(products)\n",
    "print(inventory)"
   ]
  },
  {
   "cell_type": "code",
   "execution_count": 32,
   "id": "447d2a67-43c0-4d18-9334-8543c7531183",
   "metadata": {
    "tags": []
   },
   "outputs": [
    {
     "name": "stdin",
     "output_type": "stream",
     "text": [
      "Please enter the price of book:  4\n",
      "Please enter the price of mug:  5.2\n",
      "Please enter the price of hat:  frd\n"
     ]
    },
    {
     "name": "stdout",
     "output_type": "stream",
     "text": [
      "Error: You entered a non-numeric value.Price must be a positive number\n"
     ]
    },
    {
     "name": "stdin",
     "output_type": "stream",
     "text": [
      "Please enter the price of hat:  5\n"
     ]
    },
    {
     "name": "stdout",
     "output_type": "stream",
     "text": [
      "Total price: 75.6\n"
     ]
    }
   ],
   "source": [
    "#Modify the calculate_total_price function to include error handling.\n",
    "#If the user enters an invalid price (e.g., a negative value or a non-numeric value), display an error message and ask them to re-enter the price for that product.\n",
    "#Use a try-except block to handle the error and continue prompting the user until a valid price is entered.\n",
    "def calculate_total_price(customer_orders):\n",
    "    total_price = 0\n",
    "    for product, quantity in customer_orders.items():\n",
    "        while True:\n",
    "            try:\n",
    "                price_input = input(f\"Please enter the price of {product}: \")\n",
    "                # Check if the input is a valid number (positive or negative)\n",
    "                price = float(price_input)\n",
    "                if price <= 0:\n",
    "                    raise ValueError(\"Price must be a positive number.\")\n",
    "                break\n",
    "            except ValueError as e:\n",
    "                if all(char.isdigit() or char == '.' or char == '-' for char in price_input):\n",
    "                    print(\"Error: You entered a negative value.Price must be a positive number\")\n",
    "                else:\n",
    "                    print(\"Error: You entered a non-numeric value.Price must be a positive number\")\n",
    "        total_price += price * quantity\n",
    "    return total_price\n",
    "\n",
    "\n",
    "customer_orders = {'book': 5, 'mug': 3, 'hat': 8}\n",
    "total_price = calculate_total_price(customer_orders)\n",
    "print(\"Total price:\", total_price)\n",
    "\n",
    "\n"
   ]
  },
  {
   "cell_type": "code",
   "execution_count": null,
   "id": "f98c6769-3c81-46c7-90c5-d2fba8a6a017",
   "metadata": {
    "tags": []
   },
   "outputs": [
    {
     "name": "stdin",
     "output_type": "stream",
     "text": [
      "Enter the quantity of hats available:  54\n",
      "Enter the quantity of books available:  45\n",
      "Enter the quantity of pens available:  65\n",
      "Please enter the name of a product from the following ['hat', 'book', 'pen'] you would like to order (or type 'done' to finish):  4\n"
     ]
    },
    {
     "name": "stdout",
     "output_type": "stream",
     "text": [
      "Error: Invalid product name or out of stock.\n"
     ]
    },
    {
     "name": "stdin",
     "output_type": "stream",
     "text": [
      "Please enter the name of a product from the following ['hat', 'book', 'pen'] you would like to order (or type 'done' to finish):  34\n"
     ]
    },
    {
     "name": "stdout",
     "output_type": "stream",
     "text": [
      "Error: Invalid product name or out of stock.\n"
     ]
    },
    {
     "name": "stdin",
     "output_type": "stream",
     "text": [
      "Please enter the name of a product from the following ['hat', 'book', 'pen'] you would like to order (or type 'done' to finish):  5\n"
     ]
    },
    {
     "name": "stdout",
     "output_type": "stream",
     "text": [
      "Error: Invalid product name or out of stock.\n"
     ]
    }
   ],
   "source": [
    "#Modify the get_customer_orders function to include error handling.\n",
    "#If the user enters an invalid number of orders (e.g., a negative value or a non-numeric value), display an error message and ask them to re-enter the number of orders.\n",
    "#If the user enters an invalid product name (e.g., a product name that is not in the inventory), or that doesn't have stock available, display an error message and ask them to re-enter the product name. Hint: you will need to pass inventory as a parameter\n",
    "#Use a try-except block to handle the error and continue prompting the user until a valid product name is entered.\n",
    "\n",
    "def get_customer_orders(products, inventory):\n",
    "    orders = {}\n",
    "    while True:\n",
    "        try:\n",
    "            product_name = input(f\"Please enter the name of a product from the following {products} you would like to order (or type 'done' to finish): \")\n",
    "            if product_name == 'done':\n",
    "                break\n",
    "            if product_name not in inventory or inventory[product_name] <= 0:\n",
    "                raise ValueError(\"Invalid product name or out of stock.\")\n",
    "            while True:\n",
    "                try:\n",
    "                    quantity = int(input(f\"Please enter the quantity of {product_name} you want to order: \"))\n",
    "                    if quantity <= 0:\n",
    "                        raise ValueError(\"Quantity must be a positive integer.\")\n",
    "                    if quantity > inventory[product_name]:\n",
    "                        raise ValueError(\"Not enough stock available.\")\n",
    "                    break\n",
    "                except ValueError as ve:\n",
    "                    print(f\"Error: {ve}\")\n",
    "            orders[product_name] = orders.get(product_name, 0) + quantity\n",
    "        except ValueError as ve:\n",
    "            print(f\"Error: {ve}\")\n",
    "    return orders\n",
    "\n",
    "# Example usage:\n",
    "products = [\"hat\", \"book\", \"pen\"]\n",
    "inventory = initialize_inventory(products)\n",
    "customer_orders = get_customer_orders(products, inventory)\n",
    "print(customer_orders)\n",
    "\n",
    "\n",
    "\n"
   ]
  },
  {
   "cell_type": "code",
   "execution_count": null,
   "id": "7f1fe1b0-c623-4caf-93f7-156a41efb41c",
   "metadata": {},
   "outputs": [],
   "source": []
  }
 ],
 "metadata": {
  "kernelspec": {
   "display_name": "Python 3 (ipykernel)",
   "language": "python",
   "name": "python3"
  },
  "language_info": {
   "codemirror_mode": {
    "name": "ipython",
    "version": 3
   },
   "file_extension": ".py",
   "mimetype": "text/x-python",
   "name": "python",
   "nbconvert_exporter": "python",
   "pygments_lexer": "ipython3",
   "version": "3.11.7"
  }
 },
 "nbformat": 4,
 "nbformat_minor": 5
}
